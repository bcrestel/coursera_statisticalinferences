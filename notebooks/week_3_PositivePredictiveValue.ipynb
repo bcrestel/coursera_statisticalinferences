{
 "cells": [
  {
   "cell_type": "markdown",
   "metadata": {},
   "source": [
    "The text of the assignment is available on [coursera](https://www.coursera.org/learn/statistical-inferences/supplement/ruKW7/assignment-3-1-positive-predictive-value)."
   ]
  },
  {
   "cell_type": "code",
   "execution_count": 1,
   "metadata": {
    "ExecuteTime": {
     "end_time": "2020-10-09T19:30:57.362412Z",
     "start_time": "2020-10-09T19:30:57.343972Z"
    }
   },
   "outputs": [],
   "source": [
    "%load_ext autoreload\n",
    "%autoreload 2"
   ]
  },
  {
   "cell_type": "code",
   "execution_count": 2,
   "metadata": {
    "ExecuteTime": {
     "end_time": "2020-10-09T19:30:57.802721Z",
     "start_time": "2020-10-09T19:30:57.780455Z"
    }
   },
   "outputs": [
    {
     "data": {
      "text/plain": [
       "['/home/src/',\n",
       " '/home/notebooks',\n",
       " '/usr/local/lib/python37.zip',\n",
       " '/usr/local/lib/python3.7',\n",
       " '/usr/local/lib/python3.7/lib-dynload',\n",
       " '',\n",
       " '/usr/local/lib/python3.7/site-packages',\n",
       " '/usr/local/lib/python3.7/site-packages/IPython/extensions',\n",
       " '/root/.ipython']"
      ]
     },
     "execution_count": 2,
     "metadata": {},
     "output_type": "execute_result"
    }
   ],
   "source": [
    "import sys\n",
    "sys.path.insert(0, '/home/src/')\n",
    "sys.path"
   ]
  },
  {
   "cell_type": "code",
   "execution_count": 3,
   "metadata": {
    "ExecuteTime": {
     "end_time": "2020-10-09T19:30:58.599100Z",
     "start_time": "2020-10-09T19:30:58.577658Z"
    }
   },
   "outputs": [],
   "source": [
    "from ppv import calculate_ppv"
   ]
  },
  {
   "cell_type": "markdown",
   "metadata": {},
   "source": [
    "Q1) B\n"
   ]
  },
  {
   "cell_type": "code",
   "execution_count": 4,
   "metadata": {
    "ExecuteTime": {
     "end_time": "2020-10-09T19:31:29.586837Z",
     "start_time": "2020-10-09T19:31:29.575058Z"
    }
   },
   "outputs": [
    {
     "data": {
      "text/plain": [
       "{'TP': 0.4,\n",
       " 'FN': 0.09999999999999998,\n",
       " 'FP': 0.025,\n",
       " 'TN': 0.475,\n",
       " 'PPV': 0.9411764705882353,\n",
       " 'FPRP': 0.058823529411764705}"
      ]
     },
     "execution_count": 4,
     "metadata": {},
     "output_type": "execute_result"
    }
   ],
   "source": [
    "calculate_ppv(percentage_experiments_H0true=0.5, alpha_level=0.05, power=0.8)"
   ]
  },
  {
   "cell_type": "code",
   "execution_count": 6,
   "metadata": {
    "ExecuteTime": {
     "end_time": "2020-10-09T19:33:23.925191Z",
     "start_time": "2020-10-09T19:33:23.911748Z"
    }
   },
   "outputs": [
    {
     "data": {
      "text/plain": [
       "{'TP': 0.10500000000000001,\n",
       " 'FN': 0.19500000000000003,\n",
       " 'FP': 0.034999999999999996,\n",
       " 'TN': 0.6649999999999999,\n",
       " 'PPV': 0.75,\n",
       " 'FPRP': 0.24999999999999994}"
      ]
     },
     "execution_count": 6,
     "metadata": {},
     "output_type": "execute_result"
    }
   ],
   "source": [
    "calculate_ppv(percentage_experiments_H0true=0.7, alpha_level=0.05, power=0.35)"
   ]
  },
  {
   "cell_type": "code",
   "execution_count": null,
   "metadata": {},
   "outputs": [],
   "source": []
  }
 ],
 "metadata": {
  "kernelspec": {
   "display_name": "Python 3",
   "language": "python",
   "name": "python3"
  },
  "language_info": {
   "codemirror_mode": {
    "name": "ipython",
    "version": 3
   },
   "file_extension": ".py",
   "mimetype": "text/x-python",
   "name": "python",
   "nbconvert_exporter": "python",
   "pygments_lexer": "ipython3",
   "version": "3.7.8"
  },
  "toc": {
   "base_numbering": 1,
   "nav_menu": {},
   "number_sections": true,
   "sideBar": true,
   "skip_h1_title": false,
   "title_cell": "Table of Contents",
   "title_sidebar": "Contents",
   "toc_cell": false,
   "toc_position": {},
   "toc_section_display": true,
   "toc_window_display": false
  }
 },
 "nbformat": 4,
 "nbformat_minor": 4
}
