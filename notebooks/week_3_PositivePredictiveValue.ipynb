{
 "cells": [
  {
   "cell_type": "markdown",
   "metadata": {},
   "source": [
    "The text of the assignment is available on [coursera](https://www.coursera.org/learn/statistical-inferences/supplement/ruKW7/assignment-3-1-positive-predictive-value)."
   ]
  },
  {
   "cell_type": "code",
   "execution_count": 26,
   "metadata": {
    "ExecuteTime": {
     "end_time": "2020-10-15T02:44:53.295438Z",
     "start_time": "2020-10-15T02:44:53.246797Z"
    }
   },
   "outputs": [
    {
     "name": "stdout",
     "output_type": "stream",
     "text": [
      "The autoreload extension is already loaded. To reload it, use:\n",
      "  %reload_ext autoreload\n"
     ]
    }
   ],
   "source": [
    "%load_ext autoreload\n",
    "%autoreload 2"
   ]
  },
  {
   "cell_type": "code",
   "execution_count": 27,
   "metadata": {
    "ExecuteTime": {
     "end_time": "2020-10-15T02:44:53.522775Z",
     "start_time": "2020-10-15T02:44:53.506327Z"
    }
   },
   "outputs": [
    {
     "data": {
      "text/plain": [
       "['/home/src/',\n",
       " '/home/src/',\n",
       " '/home/notebooks',\n",
       " '/usr/local/lib/python37.zip',\n",
       " '/usr/local/lib/python3.7',\n",
       " '/usr/local/lib/python3.7/lib-dynload',\n",
       " '',\n",
       " '/usr/local/lib/python3.7/site-packages',\n",
       " '/usr/local/lib/python3.7/site-packages/IPython/extensions',\n",
       " '/root/.ipython']"
      ]
     },
     "execution_count": 27,
     "metadata": {},
     "output_type": "execute_result"
    }
   ],
   "source": [
    "import sys\n",
    "sys.path.insert(0, '/home/src/')\n",
    "sys.path"
   ]
  },
  {
   "cell_type": "code",
   "execution_count": 28,
   "metadata": {
    "ExecuteTime": {
     "end_time": "2020-10-15T02:44:53.777078Z",
     "start_time": "2020-10-15T02:44:53.762498Z"
    }
   },
   "outputs": [],
   "source": [
    "import numpy as np\n",
    "import matplotlib.pyplot as plt\n",
    "\n",
    "from ppv import calculate_ppv"
   ]
  },
  {
   "cell_type": "markdown",
   "metadata": {},
   "source": [
    "# Question 1"
   ]
  },
  {
   "cell_type": "markdown",
   "metadata": {},
   "source": [
    "Answer: B"
   ]
  },
  {
   "cell_type": "code",
   "execution_count": 29,
   "metadata": {
    "ExecuteTime": {
     "end_time": "2020-10-15T02:44:56.319308Z",
     "start_time": "2020-10-15T02:44:56.301516Z"
    }
   },
   "outputs": [
    {
     "data": {
      "text/plain": [
       "{'TP': 0.4,\n",
       " 'FN': 0.09999999999999998,\n",
       " 'FP': 0.025,\n",
       " 'TN': 0.475,\n",
       " 'PPV': 0.9411764705882353,\n",
       " 'FPRP': 0.058823529411764705}"
      ]
     },
     "execution_count": 29,
     "metadata": {},
     "output_type": "execute_result"
    }
   ],
   "source": [
    "calculate_ppv(percentage_experiments_H1true=0.5, alpha_level=0.05, power=0.8)"
   ]
  },
  {
   "cell_type": "code",
   "execution_count": 30,
   "metadata": {
    "ExecuteTime": {
     "end_time": "2020-10-15T02:44:57.995110Z",
     "start_time": "2020-10-15T02:44:57.976697Z"
    }
   },
   "outputs": [
    {
     "data": {
      "text/plain": [
       "{'TP': 0.105,\n",
       " 'FN': 0.195,\n",
       " 'FP': 0.034999999999999996,\n",
       " 'TN': 0.6649999999999999,\n",
       " 'PPV': 0.75,\n",
       " 'FPRP': 0.25}"
      ]
     },
     "execution_count": 30,
     "metadata": {},
     "output_type": "execute_result"
    }
   ],
   "source": [
    "calculate_ppv(percentage_experiments_H1true=0.3, alpha_level=0.05, power=0.35)"
   ]
  },
  {
   "cell_type": "code",
   "execution_count": 58,
   "metadata": {
    "ExecuteTime": {
     "end_time": "2020-10-15T02:57:25.804542Z",
     "start_time": "2020-10-15T02:57:25.788427Z"
    }
   },
   "outputs": [
    {
     "data": {
      "text/plain": [
       "{'TP': 0.2,\n",
       " 'FN': 0.04999999999999999,\n",
       " 'FP': 0.037500000000000006,\n",
       " 'TN': 0.7124999999999999,\n",
       " 'PPV': 0.8421052631578947,\n",
       " 'FPRP': 0.15789473684210528}"
      ]
     },
     "execution_count": 58,
     "metadata": {},
     "output_type": "execute_result"
    }
   ],
   "source": [
    "calculate_ppv(percentage_experiments_H1true=0.25, alpha_level=0.05, power=0.8)"
   ]
  },
  {
   "cell_type": "markdown",
   "metadata": {},
   "source": [
    "# Question 2"
   ]
  },
  {
   "cell_type": "code",
   "execution_count": 31,
   "metadata": {
    "ExecuteTime": {
     "end_time": "2020-10-15T02:44:59.705913Z",
     "start_time": "2020-10-15T02:44:59.552321Z"
    }
   },
   "outputs": [
    {
     "data": {
      "text/plain": [
       "[<matplotlib.lines.Line2D at 0x7fc0d8e78a50>]"
      ]
     },
     "execution_count": 31,
     "metadata": {},
     "output_type": "execute_result"
    },
    {
     "data": {
      "image/png": "[encoded data removed]",
      "text/plain": [
       "<Figure size 432x288 with 1 Axes>"
      ]
     },
     "metadata": {
      "needs_background": "light"
     },
     "output_type": "display_data"
    }
   ],
   "source": [
    "h1 = np.linspace(0.0, 1.0, 50)\n",
    "plt.plot(h1, calculate_ppv(percentage_experiments_H1true=h1, alpha_level=0.05, power=0.8)['PPV'])"
   ]
  },
  {
   "cell_type": "code",
   "execution_count": 32,
   "metadata": {
    "ExecuteTime": {
     "end_time": "2020-10-15T02:45:01.053034Z",
     "start_time": "2020-10-15T02:45:00.898746Z"
    }
   },
   "outputs": [
    {
     "data": {
      "text/plain": [
       "[<matplotlib.lines.Line2D at 0x7fc0d673bf50>]"
      ]
     },
     "execution_count": 32,
     "metadata": {},
     "output_type": "execute_result"
    },
    {
     "data": {
      "image/png": "[encoded data removed]",
      "text/plain": [
       "<Figure size 432x288 with 1 Axes>"
      ]
     },
     "metadata": {
      "needs_background": "light"
     },
     "output_type": "display_data"
    }
   ],
   "source": [
    "alpha = np.linspace(0.0, 1.0, 50)\n",
    "plt.plot(alpha, calculate_ppv(percentage_experiments_H1true=0.5, alpha_level=alpha, power=0.8)['PPV'])"
   ]
  },
  {
   "cell_type": "code",
   "execution_count": 33,
   "metadata": {
    "ExecuteTime": {
     "end_time": "2020-10-15T02:45:01.937083Z",
     "start_time": "2020-10-15T02:45:01.791743Z"
    }
   },
   "outputs": [
    {
     "data": {
      "text/plain": [
       "[<matplotlib.lines.Line2D at 0x7fc0d66c8fd0>]"
      ]
     },
     "execution_count": 33,
     "metadata": {},
     "output_type": "execute_result"
    },
    {
     "data": {
      "image/png": "[encoded data removed]",
      "text/plain": [
       "<Figure size 432x288 with 1 Axes>"
      ]
     },
     "metadata": {
      "needs_background": "light"
     },
     "output_type": "display_data"
    }
   ],
   "source": [
    "power = np.linspace(0.0, 1.0, 20)\n",
    "plt.plot(power, calculate_ppv(percentage_experiments_H1true=0.5, alpha_level=0.05, power=power)['PPV'])"
   ]
  },
  {
   "cell_type": "markdown",
   "metadata": {},
   "source": [
    "# Question 3"
   ]
  },
  {
   "cell_type": "code",
   "execution_count": 34,
   "metadata": {
    "ExecuteTime": {
     "end_time": "2020-10-15T02:45:02.801103Z",
     "start_time": "2020-10-15T02:45:02.784354Z"
    }
   },
   "outputs": [
    {
     "data": {
      "text/plain": [
       "0.5"
      ]
     },
     "execution_count": 34,
     "metadata": {},
     "output_type": "execute_result"
    }
   ],
   "source": [
    "calculate_ppv(percentage_experiments_H1true=0.5, alpha_level=0.05, power=0.05)['PPV']"
   ]
  },
  {
   "cell_type": "markdown",
   "metadata": {},
   "source": [
    "# Question 4"
   ]
  },
  {
   "cell_type": "code",
   "execution_count": 48,
   "metadata": {
    "ExecuteTime": {
     "end_time": "2020-10-15T02:50:42.221225Z",
     "start_time": "2020-10-15T02:50:42.203505Z"
    }
   },
   "outputs": [
    {
     "data": {
      "text/plain": [
       "(0.7692307692307692, 0.3636363636363637)"
      ]
     },
     "execution_count": 48,
     "metadata": {},
     "output_type": "execute_result"
    }
   ],
   "source": [
    "calculate_ppv(percentage_experiments_H1true=0.25, alpha_level=0.05, power=0.5)['PPV'], calculate_ppv(percentage_experiments_H1true=0.25, alpha_level=0.05, power=0.8, p_hacking_ratio=0.5)['PPV']\n"
   ]
  },
  {
   "cell_type": "code",
   "execution_count": 49,
   "metadata": {
    "ExecuteTime": {
     "end_time": "2020-10-15T02:51:33.897866Z",
     "start_time": "2020-10-15T02:51:33.876542Z"
    }
   },
   "outputs": [
    {
     "data": {
      "text/plain": [
       "(0.9677419354838709, 0.8372093023255814)"
      ]
     },
     "execution_count": 49,
     "metadata": {},
     "output_type": "execute_result"
    }
   ],
   "source": [
    "calculate_ppv(percentage_experiments_H1true=0.75, alpha_level=0.05, power=0.5)['PPV'], calculate_ppv(percentage_experiments_H1true=0.75, alpha_level=0.05, power=0.8, p_hacking_ratio=0.5)['PPV']\n"
   ]
  },
  {
   "cell_type": "code",
   "execution_count": 50,
   "metadata": {
    "ExecuteTime": {
     "end_time": "2020-10-15T02:51:47.079470Z",
     "start_time": "2020-10-15T02:51:47.059875Z"
    }
   },
   "outputs": [
    {
     "data": {
      "text/plain": [
       "(0.6666666666666666, 0.5901639344262296)"
      ]
     },
     "execution_count": 50,
     "metadata": {},
     "output_type": "execute_result"
    }
   ],
   "source": [
    "calculate_ppv(percentage_experiments_H1true=0.5, alpha_level=0.25, power=0.5)['PPV'], calculate_ppv(percentage_experiments_H1true=0.5, alpha_level=0.25, power=0.8, p_hacking_ratio=0.5)['PPV']\n"
   ]
  },
  {
   "cell_type": "code",
   "execution_count": 54,
   "metadata": {
    "ExecuteTime": {
     "end_time": "2020-10-15T02:52:37.986174Z",
     "start_time": "2020-10-15T02:52:37.966540Z"
    }
   },
   "outputs": [
    {
     "data": {
      "text/plain": [
       "(0.5882352941176471, 0.8108108108108109)"
      ]
     },
     "execution_count": 54,
     "metadata": {},
     "output_type": "execute_result"
    }
   ],
   "source": [
    "calculate_ppv(percentage_experiments_H1true=0.5, alpha_level=0.05, power=0.5, p_hacking_ratio=0.5)['PPV'], calculate_ppv(percentage_experiments_H1true=0.75, alpha_level=0.05, power=0.5, p_hacking_ratio=0.5)['PPV']\n"
   ]
  },
  {
   "cell_type": "markdown",
   "metadata": {},
   "source": [
    "# Question 5"
   ]
  },
  {
   "cell_type": "code",
   "execution_count": 56,
   "metadata": {
    "ExecuteTime": {
     "end_time": "2020-10-15T02:54:12.886035Z",
     "start_time": "2020-10-15T02:54:12.867379Z"
    }
   },
   "outputs": [
    {
     "data": {
      "text/plain": [
       "{'TP': array([0., 0., 0., 0., 0., 0., 0., 0., 0., 0., 0., 0., 0., 0., 0., 0., 0.,\n",
       "        0., 0., 0., 0., 0., 0., 0., 0., 0., 0., 0., 0., 0., 0., 0., 0., 0.,\n",
       "        0., 0., 0., 0., 0., 0., 0., 0., 0., 0., 0., 0., 0., 0., 0., 0.]),\n",
       " 'FN': array([0., 0., 0., 0., 0., 0., 0., 0., 0., 0., 0., 0., 0., 0., 0., 0., 0.,\n",
       "        0., 0., 0., 0., 0., 0., 0., 0., 0., 0., 0., 0., 0., 0., 0., 0., 0.,\n",
       "        0., 0., 0., 0., 0., 0., 0., 0., 0., 0., 0., 0., 0., 0., 0., 0.]),\n",
       " 'FP': 0.05,\n",
       " 'TN': 0.95,\n",
       " 'PPV': array([0., 0., 0., 0., 0., 0., 0., 0., 0., 0., 0., 0., 0., 0., 0., 0., 0.,\n",
       "        0., 0., 0., 0., 0., 0., 0., 0., 0., 0., 0., 0., 0., 0., 0., 0., 0.,\n",
       "        0., 0., 0., 0., 0., 0., 0., 0., 0., 0., 0., 0., 0., 0., 0., 0.]),\n",
       " 'FPRP': array([1., 1., 1., 1., 1., 1., 1., 1., 1., 1., 1., 1., 1., 1., 1., 1., 1.,\n",
       "        1., 1., 1., 1., 1., 1., 1., 1., 1., 1., 1., 1., 1., 1., 1., 1., 1.,\n",
       "        1., 1., 1., 1., 1., 1., 1., 1., 1., 1., 1., 1., 1., 1., 1., 1.])}"
      ]
     },
     "execution_count": 56,
     "metadata": {},
     "output_type": "execute_result"
    }
   ],
   "source": [
    "calculate_ppv(percentage_experiments_H1true=0.0, alpha_level=0.05, power=np.linspace(0.0, 1.0, 50), p_hacking_ratio=0.0)\n"
   ]
  },
  {
   "cell_type": "code",
   "execution_count": null,
   "metadata": {},
   "outputs": [],
   "source": []
  }
 ],
 "metadata": {
  "kernelspec": {
   "display_name": "Python 3",
   "language": "python",
   "name": "python3"
  },
  "language_info": {
   "codemirror_mode": {
    "name": "ipython",
    "version": 3
   },
   "file_extension": ".py",
   "mimetype": "text/x-python",
   "name": "python",
   "nbconvert_exporter": "python",
   "pygments_lexer": "ipython3",
   "version": "3.7.8"
  },
  "toc": {
   "base_numbering": 1,
   "nav_menu": {},
   "number_sections": true,
   "sideBar": true,
   "skip_h1_title": false,
   "title_cell": "Table of Contents",
   "title_sidebar": "Contents",
   "toc_cell": false,
   "toc_position": {},
   "toc_section_display": true,
   "toc_window_display": false
  }
 },
 "nbformat": 4,
 "nbformat_minor": 4
}
