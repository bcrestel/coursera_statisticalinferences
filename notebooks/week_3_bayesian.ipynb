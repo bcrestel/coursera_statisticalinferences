{
 "cells": [
  {
   "cell_type": "markdown",
   "metadata": {},
   "source": [
    "# Preamble"
   ]
  },
  {
   "cell_type": "markdown",
   "metadata": {},
   "source": [
    "Second assignement for week 2, on [Bayesian statistics](https://www.coursera.org/learn/statistical-inferences/supplement/IPkZK/assignment-2-2-bayesian-statistics)"
   ]
  },
  {
   "cell_type": "code",
   "execution_count": 2,
   "metadata": {
    "ExecuteTime": {
     "end_time": "2020-09-30T01:29:12.447855Z",
     "start_time": "2020-09-30T01:29:12.417626Z"
    }
   },
   "outputs": [],
   "source": [
    "%load_ext autoreload\n",
    "%autoreload 2"
   ]
  },
  {
   "cell_type": "code",
   "execution_count": 3,
   "metadata": {
    "ExecuteTime": {
     "end_time": "2020-09-30T01:29:12.662301Z",
     "start_time": "2020-09-30T01:29:12.638565Z"
    }
   },
   "outputs": [
    {
     "data": {
      "text/plain": [
       "['/home/src/',\n",
       " '/home/notebooks',\n",
       " '/usr/local/lib/python37.zip',\n",
       " '/usr/local/lib/python3.7',\n",
       " '/usr/local/lib/python3.7/lib-dynload',\n",
       " '',\n",
       " '/usr/local/lib/python3.7/site-packages',\n",
       " '/usr/local/lib/python3.7/site-packages/IPython/extensions',\n",
       " '/root/.ipython']"
      ]
     },
     "execution_count": 3,
     "metadata": {},
     "output_type": "execute_result"
    }
   ],
   "source": [
    "import sys\n",
    "sys.path.insert(0, '/home/src/')\n",
    "sys.path"
   ]
  },
  {
   "cell_type": "code",
   "execution_count": 17,
   "metadata": {
    "ExecuteTime": {
     "end_time": "2020-09-30T01:43:45.098593Z",
     "start_time": "2020-09-30T01:43:45.068516Z"
    }
   },
   "outputs": [],
   "source": [
    "import numpy as np\n",
    "import matplotlib.pyplot as plt\n",
    "from scipy.stats import beta\n",
    "\n",
    "from bayesian import BayesFactorBinomial"
   ]
  },
  {
   "cell_type": "markdown",
   "metadata": {},
   "source": [
    "# Question 1"
   ]
  },
  {
   "cell_type": "code",
   "execution_count": 15,
   "metadata": {
    "ExecuteTime": {
     "end_time": "2020-09-30T01:37:56.097457Z",
     "start_time": "2020-09-30T01:37:55.888043Z"
    }
   },
   "outputs": [
    {
     "data": {
      "text/plain": [
       "<matplotlib.legend.Legend at 0x7f0a34da09d0>"
      ]
     },
     "execution_count": 15,
     "metadata": {},
     "output_type": "execute_result"
    },
    {
     "data": {
      "image/png": "[encoded data removed]",
      "text/plain": [
       "<Figure size 432x288 with 1 Axes>"
      ]
     },
     "metadata": {
      "needs_background": "light"
     },
     "output_type": "display_data"
    }
   ],
   "source": [
    "fig, ax = plt.subplots(1,1)\n",
    "x = np.linspace(0.0, 1.0, 1000)\n",
    "prior_a, prior_b = 1.0, 0.5\n",
    "prior = beta.pdf(x, a=prior_a, b=prior_b)\n",
    "ax.plot(x, prior, label='prior')\n",
    "y = beta.pdf(x, a=prior_a + 10, b=prior_b + 20 - 10)\n",
    "ax.plot(x, y, label='posterior')\n",
    "plt.legend()"
   ]
  },
  {
   "cell_type": "markdown",
   "metadata": {},
   "source": [
    "# Question 2"
   ]
  },
  {
   "cell_type": "code",
   "execution_count": 16,
   "metadata": {
    "ExecuteTime": {
     "end_time": "2020-09-30T01:38:03.428623Z",
     "start_time": "2020-09-30T01:38:03.241413Z"
    }
   },
   "outputs": [
    {
     "data": {
      "text/plain": [
       "<matplotlib.legend.Legend at 0x7f0a352b8110>"
      ]
     },
     "execution_count": 16,
     "metadata": {},
     "output_type": "execute_result"
    },
    {
     "data": {
      "image/png": "[encoded data removed]",
      "text/plain": [
       "<Figure size 432x288 with 1 Axes>"
      ]
     },
     "metadata": {
      "needs_background": "light"
     },
     "output_type": "display_data"
    }
   ],
   "source": [
    "fig, ax = plt.subplots(1,1)\n",
    "x = np.linspace(0.0, 1.0, 1000)\n",
    "prior_a, prior_b = 100, 100\n",
    "prior = beta.pdf(x, a=prior_a, b=prior_b)\n",
    "ax.plot(x, prior, label='prior')\n",
    "y = beta.pdf(x, a=prior_a + 10, b=prior_b + 20 - 10)\n",
    "ax.plot(x, y, label='posterior')\n",
    "plt.legend()"
   ]
  },
  {
   "cell_type": "markdown",
   "metadata": {},
   "source": [
    "# Question 3"
   ]
  },
  {
   "cell_type": "code",
   "execution_count": 22,
   "metadata": {
    "ExecuteTime": {
     "end_time": "2020-09-30T01:46:01.524219Z",
     "start_time": "2020-09-30T01:46:01.498006Z"
    }
   },
   "outputs": [
    {
     "data": {
      "text/plain": [
       "3.7001380920410165"
      ]
     },
     "execution_count": 22,
     "metadata": {},
     "output_type": "execute_result"
    }
   ],
   "source": [
    "# newborn\n",
    "BayesFactorBinomial(number_flips=20, number_heads=10, \n",
    "                    point_null=0.5, \n",
    "                    prior_a=1.0, prior_b=1.0)"
   ]
  },
  {
   "cell_type": "code",
   "execution_count": 24,
   "metadata": {
    "ExecuteTime": {
     "end_time": "2020-09-30T01:47:00.155776Z",
     "start_time": "2020-09-30T01:47:00.124665Z"
    }
   },
   "outputs": [
    {
     "data": {
      "text/plain": [
       "1.001588164505387"
      ]
     },
     "execution_count": 24,
     "metadata": {},
     "output_type": "execute_result"
    }
   ],
   "source": [
    "# If hypothesis is that the coin p = 0.675, \n",
    "# then belief remains unchanged\n",
    "BayesFactorBinomial(number_flips=20, number_heads=10, \n",
    "                    point_null=0.675, \n",
    "                    prior_a=1.0, prior_b=1.0)"
   ]
  },
  {
   "cell_type": "markdown",
   "metadata": {},
   "source": [
    "# Question 4"
   ]
  },
  {
   "cell_type": "code",
   "execution_count": 25,
   "metadata": {
    "ExecuteTime": {
     "end_time": "2020-09-30T01:47:35.766128Z",
     "start_time": "2020-09-30T01:47:35.743105Z"
    }
   },
   "outputs": [
    {
     "data": {
      "text/plain": [
       "1.048928036407493"
      ]
     },
     "execution_count": 25,
     "metadata": {},
     "output_type": "execute_result"
    }
   ],
   "source": [
    "# strong skeptic\n",
    "# belief at 0.5 increases but not as much as for newborn\n",
    "BayesFactorBinomial(number_flips=20, number_heads=10, \n",
    "                    point_null=0.5, \n",
    "                    prior_a=100, prior_b=100)"
   ]
  },
  {
   "cell_type": "code",
   "execution_count": 26,
   "metadata": {
    "ExecuteTime": {
     "end_time": "2020-09-30T01:49:03.351555Z",
     "start_time": "2020-09-30T01:49:03.328518Z"
    }
   },
   "outputs": [
    {
     "data": {
      "text/plain": [
       "2.4164048293016688e-05"
      ]
     },
     "execution_count": 26,
     "metadata": {},
     "output_type": "execute_result"
    }
   ],
   "source": [
    "# strong skeptic\n",
    "BayesFactorBinomial(number_flips=100, number_heads=90, \n",
    "                    point_null=0.5, \n",
    "                    prior_a=100, prior_b=100)"
   ]
  },
  {
   "cell_type": "markdown",
   "metadata": {},
   "source": [
    "# Question 5"
   ]
  },
  {
   "cell_type": "code",
   "execution_count": 29,
   "metadata": {
    "ExecuteTime": {
     "end_time": "2020-09-30T01:58:49.826399Z",
     "start_time": "2020-09-30T01:58:49.799586Z"
    }
   },
   "outputs": [
    {
     "data": {
      "text/plain": [
       "(0.5, 0.8636363636363636)"
      ]
     },
     "execution_count": 29,
     "metadata": {},
     "output_type": "execute_result"
    }
   ],
   "source": [
    "prior_a = 1\n",
    "prior_b = 1\n",
    "prior_mean = prior_a / (prior_a + prior_b)\n",
    "\n",
    "post_a = 1 + 18\n",
    "post_b = 1 + 20 - 18\n",
    "post_mean = post_a / (post_a + post_b)\n",
    "prior_mean, post_mean"
   ]
  },
  {
   "cell_type": "markdown",
   "metadata": {},
   "source": [
    "# Question 6"
   ]
  },
  {
   "cell_type": "code",
   "execution_count": 32,
   "metadata": {
    "ExecuteTime": {
     "end_time": "2020-09-30T02:00:39.374759Z",
     "start_time": "2020-09-30T02:00:39.352646Z"
    }
   },
   "outputs": [
    {
     "data": {
      "text/plain": [
       "0.99990869247626"
      ]
     },
     "execution_count": 32,
     "metadata": {},
     "output_type": "execute_result"
    }
   ],
   "source": [
    "post_a = 1 + 30*365\n",
    "post_b = 1\n",
    "post_mean = post_a / (post_a + post_b)\n",
    "post_mean"
   ]
  },
  {
   "cell_type": "markdown",
   "metadata": {},
   "source": [
    "# Question 7"
   ]
  },
  {
   "cell_type": "code",
   "execution_count": 31,
   "metadata": {
    "ExecuteTime": {
     "end_time": "2020-09-30T02:00:16.389547Z",
     "start_time": "2020-09-30T02:00:16.363622Z"
    }
   },
   "outputs": [
    {
     "data": {
      "text/plain": [
       "1.0"
      ]
     },
     "execution_count": 31,
     "metadata": {},
     "output_type": "execute_result"
    }
   ],
   "source": [
    "freq_estimate = 1.0\n",
    "freq_estimate"
   ]
  },
  {
   "cell_type": "markdown",
   "metadata": {},
   "source": [
    "# Question 8"
   ]
  },
  {
   "cell_type": "code",
   "execution_count": null,
   "metadata": {},
   "outputs": [],
   "source": []
  }
 ],
 "metadata": {
  "kernelspec": {
   "display_name": "Python 3",
   "language": "python",
   "name": "python3"
  },
  "language_info": {
   "codemirror_mode": {
    "name": "ipython",
    "version": 3
   },
   "file_extension": ".py",
   "mimetype": "text/x-python",
   "name": "python",
   "nbconvert_exporter": "python",
   "pygments_lexer": "ipython3",
   "version": "3.7.8"
  },
  "toc": {
   "base_numbering": "0",
   "nav_menu": {},
   "number_sections": true,
   "sideBar": true,
   "skip_h1_title": false,
   "title_cell": "Table of Contents",
   "title_sidebar": "Contents",
   "toc_cell": false,
   "toc_position": {
    "height": "calc(100% - 180px)",
    "left": "10px",
    "top": "150px",
    "width": "175px"
   },
   "toc_section_display": true,
   "toc_window_display": false
  }
 },
 "nbformat": 4,
 "nbformat_minor": 4
}
